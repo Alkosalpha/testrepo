{
  "metadata": {
    "kernelspec": {
      "name": "python",
      "display_name": "Python (Pyodide)",
      "language": "python"
    },
    "language_info": {
      "codemirror_mode": {
        "name": "python",
        "version": 3
      },
      "file_extension": ".py",
      "mimetype": "text/x-python",
      "name": "python",
      "nbconvert_exporter": "python",
      "pygments_lexer": "ipython3",
      "version": "3.8"
    }
  },
  "nbformat_minor": 4,
  "nbformat": 4,
  "cells": [
    {
      "cell_type": "markdown",
      "source": "<center>\n    <img src=\"https://s3-api.us-geo.objectstorage.softlayer.net/cf-courses-data/CognitiveClass/Logos/organization_logo/organization_logo.png\" width=\"300\" alt=\"cognitiveclass.ai logo\"  />\n</center>\n",
      "metadata": {}
    },
    {
      "cell_type": "markdown",
      "source": "#### Add your code below following the instructions given in the course\n",
      "metadata": {}
    },
    {
      "cell_type": "markdown",
      "source": "<H1> My Jupyter Notebook on IBM Watson Studio </H1>",
      "metadata": {}
    },
    {
      "cell_type": "markdown",
      "source": "<B>AMEX</B>\n<br>Data Scientist</br>\n",
      "metadata": {}
    },
    {
      "cell_type": "markdown",
      "source": "<em> I am interested in data science because I line to find solution from data. In 21th Century Data Science is the top growing sector.</em>",
      "metadata": {}
    },
    {
      "cell_type": "markdown",
      "source": "<H3>Dividing two numbers</H3>",
      "metadata": {}
    },
    {
      "cell_type": "code",
      "source": "a=258964\nb=652398\nprint(b/a)",
      "metadata": {
        "trusted": true
      },
      "execution_count": 17,
      "outputs": [
        {
          "name": "stdout",
          "text": "2.5192613645139863\n",
          "output_type": "stream"
        }
      ]
    },
    {
      "cell_type": "markdown",
      "source": "1.First list\n<br>2.Second List\n<br>3.Third List</br>",
      "metadata": {}
    },
    {
      "cell_type": "markdown",
      "source": "* First item\n* Second item\n* Third item\n* Fourth item",
      "metadata": {}
    },
    {
      "cell_type": "markdown",
      "source": "My favorite search engine is [Duck Duck Go](https://duckduckgo.com).",
      "metadata": {}
    },
    {
      "cell_type": "code",
      "source": "",
      "metadata": {},
      "execution_count": null,
      "outputs": []
    }
  ]
}